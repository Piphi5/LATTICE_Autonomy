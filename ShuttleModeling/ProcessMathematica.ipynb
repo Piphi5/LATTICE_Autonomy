{
 "cells": [
  {
   "cell_type": "code",
   "execution_count": 4,
   "id": "645da92a-24be-4b5d-a62b-fe07d34dbe87",
   "metadata": {},
   "outputs": [],
   "source": [
    "def process_text(text, lookup):\n",
    "    for old, new in lookup.items():\n",
    "        text = text.replace(old, new)\n",
    "    return text"
   ]
  },
  {
   "cell_type": "code",
   "execution_count": 5,
   "id": "5dfe584b-edd4-4a93-9297-6fde93c53cd3",
   "metadata": {},
   "outputs": [
    {
     "name": "stdin",
     "output_type": "stream",
     "text": [
      "Enter eq:  (850 \\[Pi]^(1/4) x-2 85^(3/4) sqrt (x (-1+212500 \\[Pi] x^3))^(1/4))/(850 \\[Pi]^(1/4))\n"
     ]
    }
   ],
   "source": [
    "input_text = input(\"Enter eq: \")"
   ]
  },
  {
   "cell_type": "code",
   "execution_count": 6,
   "id": "fe8dae54-3984-4a29-ab22-10a7f276c6f8",
   "metadata": {},
   "outputs": [],
   "source": [
    "process = {\n",
    "    \")(\": \")*(\",\n",
    "\" -\": \"-\",\n",
    "    \" +\": \"+\",\n",
    "    \". \": \"*\",\n",
    "    \" \": \"*\",\n",
    "    \"^\": \"**\",\n",
    "    \"Sqrt\": \"math.sqrt\",\n",
    "    \"Cos\": \"math.cos\",\n",
    "    \"Sin\": \"math.sin\",\n",
    "    \"Csc\" : \"mp.csc\",\n",
    "    \"Cot\" : \"mp.cot\",\n",
    "    \"\\[Pi]\" : \"math.pi\",\n",
    "    \"[\": \"(\",\n",
    "    \"]\": \")\"\n",
    "}"
   ]
  },
  {
   "cell_type": "code",
   "execution_count": 7,
   "id": "a9604b8d-90f8-469a-98b5-c4249845e6e7",
   "metadata": {},
   "outputs": [
    {
     "name": "stdout",
     "output_type": "stream",
     "text": [
      "(850*math.pi**(1/4)*x-2*85**(3/4)*sqrt*(x*(-1+212500*math.pi*x**3))**(1/4))/(850*math.pi**(1/4))\n"
     ]
    }
   ],
   "source": [
    "out_text = process_text(input_text, process)\n",
    "print(out_text)"
   ]
  },
  {
   "cell_type": "code",
   "execution_count": 8,
   "id": "6db2e43a-eaf0-4229-a9c7-e677166e6a24",
   "metadata": {},
   "outputs": [
    {
     "name": "stdout",
     "output_type": "stream",
     "text": [
      "(\n",
      "    850 * math.pi ** (1 / 4) * x\n",
      "    - 2 * 85 ** (3 / 4) * sqrt * (x * (-1 + 212500 * math.pi * x**3)) ** (1 / 4)\n",
      ") / (850 * math.pi ** (1 / 4))\n",
      "\n"
     ]
    }
   ],
   "source": [
    "from black import format_str, FileMode\n",
    "formatted = format_str(out_text, mode=FileMode())\n",
    "print(formatted)"
   ]
  },
  {
   "cell_type": "code",
   "execution_count": 17,
   "id": "972ea8d0-0c79-46f1-8315-da0b0b092f80",
   "metadata": {},
   "outputs": [
    {
     "name": "stdin",
     "output_type": "stream",
     "text": [
      "Enter Mathematica CForm:  ArcCos((-((2*dap + dpdp)*Larm*(2*Power(dap,2) + 2*dap*dpdp + 2*Power(Larm,2) + Power(2*dpdp + mintakeup,2))) +        2*(2*dap + dpdp)*Larm*((2*dap + dpdp)*Larm*Cos(otherAngle) + mintakeup*Sqrt(Power(dap,2) + Power(Larm,2) - 2*dap*Larm*Cos(otherAngle)) +           mintakeup*Sqrt(Power(dap + dpdp,2) + Power(Larm,2) - 2*(dap + dpdp)*Larm*Cos(otherAngle)) -           Sqrt(Power(dap,2) + Power(Larm,2) - 2*dap*Larm*Cos(otherAngle))*Sqrt(Power(dap + dpdp,2) + Power(Larm,2) - 2*(dap + dpdp)*Larm*Cos(otherAngle)) +           2*dpdp*(Sqrt(Power(dap,2) + Power(Larm,2) - 2*dap*Larm*Cos(otherAngle)) + Sqrt(Power(dap + dpdp,2) + Power(Larm,2) - 2*(dap + dpdp)*Larm*Cos(otherAngle)))) +        2*Sqrt(Power(Larm,2)*(8*Power(dap,6) + 24*Power(dap,5)*dpdp + 2*Power(dap,4)*             (37*Power(dpdp,2) + 16*Power(Larm,2) + 24*dpdp*mintakeup + 6*Power(mintakeup,2) +                4*Sqrt(Power(dap,2) + Power(Larm,2) - 2*dap*Larm*Cos(otherAngle))*Sqrt(Power(dap + dpdp,2) + Power(Larm,2) - 2*(dap + dpdp)*Larm*Cos(otherAngle)) -                16*dpdp*(Sqrt(Power(dap,2) + Power(Larm,2) - 2*dap*Larm*Cos(otherAngle)) + Sqrt(Power(dap + dpdp,2) + Power(Larm,2) - 2*(dap + dpdp)*Larm*Cos(otherAngle))) -                8*mintakeup*(Sqrt(Power(dap,2) + Power(Larm,2) - 2*dap*Larm*Cos(otherAngle)) + Sqrt(Power(dap + dpdp,2) + Power(Larm,2) - 2*(dap + dpdp)*Larm*Cos(otherAngle)))) +             Power(dpdp,2)*Power(Larm,2)*(5*Power(dpdp,2) + 2*Power(Larm,2) + Power(mintakeup,2) +                2*Sqrt(Power(dap,2) + Power(Larm,2) - 2*dap*Larm*Cos(otherAngle))*Sqrt(Power(dap + dpdp,2) + Power(Larm,2) - 2*(dap + dpdp)*Larm*Cos(otherAngle)) -                2*mintakeup*(Sqrt(Power(dap,2) + Power(Larm,2) - 2*dap*Larm*Cos(otherAngle)) + Sqrt(Power(dap + dpdp,2) + Power(Larm,2) - 2*(dap + dpdp)*Larm*Cos(otherAngle))) -                4*dpdp*(-mintakeup + Sqrt(Power(dap,2) + Power(Larm,2) - 2*dap*Larm*Cos(otherAngle)) +                   Sqrt(Power(dap + dpdp,2) + Power(Larm,2) - 2*(dap + dpdp)*Larm*Cos(otherAngle)))) +             4*Power(dap,3)*dpdp*(27*Power(dpdp,2) + 16*Power(Larm,2) + 6*Power(mintakeup,2) - 10*mintakeup*Sqrt(Power(dap,2) + Power(Larm,2) - 2*dap*Larm*Cos(otherAngle)) -                6*mintakeup*Sqrt(Power(dap + dpdp,2) + Power(Larm,2) - 2*(dap + dpdp)*Larm*Cos(otherAngle)) +                4*Sqrt(Power(dap,2) + Power(Larm,2) - 2*dap*Larm*Cos(otherAngle))*Sqrt(Power(dap + dpdp,2) + Power(Larm,2) - 2*(dap + dpdp)*Larm*Cos(otherAngle)) -                4*dpdp*(-6*mintakeup + 5*Sqrt(Power(dap,2) + Power(Larm,2) - 2*dap*Larm*Cos(otherAngle)) +                   3*Sqrt(Power(dap + dpdp,2) + Power(Larm,2) - 2*(dap + dpdp)*Larm*Cos(otherAngle)))) +             dap*dpdp*(36*Power(dpdp,4) + 8*Power(Larm,4) - 4*Power(dpdp,3)*                (-13*mintakeup + 13*Sqrt(Power(dap,2) + Power(Larm,2) - 2*dap*Larm*Cos(otherAngle)) +                   9*Sqrt(Power(dap + dpdp,2) + Power(Larm,2) - 2*(dap + dpdp)*Larm*Cos(otherAngle))) +                Power(dpdp,2)*(58*Power(Larm,2) + 29*Power(mintakeup,2) - 58*mintakeup*Sqrt(Power(dap,2) + Power(Larm,2) - 2*dap*Larm*Cos(otherAngle)) -                   50*mintakeup*Sqrt(Power(dap + dpdp,2) + Power(Larm,2) - 2*(dap + dpdp)*Larm*Cos(otherAngle)) +                   50*Sqrt(Power(dap,2) + Power(Larm,2) - 2*dap*Larm*Cos(otherAngle))*Sqrt(Power(dap + dpdp,2) + Power(Larm,2) - 2*(dap + dpdp)*Larm*Cos(otherAngle))) -                8*dpdp*Power(Larm,2)*(-6*mintakeup + 4*(Sqrt(Power(dap,2) + Power(Larm,2) - 2*dap*Larm*Cos(otherAngle)) +                      Sqrt(Power(dap + dpdp,2) + Power(Larm,2) - 2*(dap + dpdp)*Larm*Cos(otherAngle)))) +                4*Power(Larm,2)*(3*Power(mintakeup,2) + 2*Sqrt(Power(dap,2) + Power(Larm,2) - 2*dap*Larm*Cos(otherAngle))*                   Sqrt(Power(dap + dpdp,2) + Power(Larm,2) - 2*(dap + dpdp)*Larm*Cos(otherAngle)) -                   4*mintakeup*(Sqrt(Power(dap,2) + Power(Larm,2) - 2*dap*Larm*Cos(otherAngle)) + Sqrt(Power(dap + dpdp,2) + Power(Larm,2) - 2*(dap + dpdp)*Larm*Cos(otherAngle))))                 + Power(mintakeup,2)*(Power(mintakeup,2) + 12*Sqrt(Power(dap,2) + Power(Larm,2) - 2*dap*Larm*Cos(otherAngle))*                   Sqrt(Power(dap + dpdp,2) + Power(Larm,2) - 2*(dap + dpdp)*Larm*Cos(otherAngle)) -                   4*mintakeup*(Sqrt(Power(dap,2) + Power(Larm,2) - 2*dap*Larm*Cos(otherAngle)) + Sqrt(Power(dap + dpdp,2) + Power(Larm,2) - 2*(dap + dpdp)*Larm*Cos(otherAngle))))                 + 8*dpdp*mintakeup*(Power(mintakeup,2) + 6*Sqrt(Power(dap,2) + Power(Larm,2) - 2*dap*Larm*Cos(otherAngle))*                   Sqrt(Power(dap + dpdp,2) + Power(Larm,2) - 2*(dap + dpdp)*Larm*Cos(otherAngle)) -                   3*mintakeup*(Sqrt(Power(dap,2) + Power(Larm,2) - 2*dap*Larm*Cos(otherAngle)) + Sqrt(Power(dap + dpdp,2) + Power(Larm,2) - 2*(dap + dpdp)*Larm*Cos(otherAngle))))               ) + Power(dap,2)*(86*Power(dpdp,4) + 8*Power(Larm,4) - 4*Power(dpdp,3)*                (-25*mintakeup + 25*Sqrt(Power(dap,2) + Power(Larm,2) - 2*dap*Larm*Cos(otherAngle)) +                   13*Sqrt(Power(dap + dpdp,2) + Power(Larm,2) - 2*(dap + dpdp)*Larm*Cos(otherAngle))) +                Power(dpdp,2)*(90*Power(Larm,2) + 41*Power(mintakeup,2) - 82*mintakeup*Sqrt(Power(dap,2) + Power(Larm,2) - 2*dap*Larm*Cos(otherAngle)) -                   58*mintakeup*Sqrt(Power(dap + dpdp,2) + Power(Larm,2) - 2*(dap + dpdp)*Larm*Cos(otherAngle)) +                   58*Sqrt(Power(dap,2) + Power(Larm,2) - 2*dap*Larm*Cos(otherAngle))*Sqrt(Power(dap + dpdp,2) + Power(Larm,2) - 2*(dap + dpdp)*Larm*Cos(otherAngle))) -                8*dpdp*Power(Larm,2)*(-6*mintakeup + 4*(Sqrt(Power(dap,2) + Power(Larm,2) - 2*dap*Larm*Cos(otherAngle)) +                      Sqrt(Power(dap + dpdp,2) + Power(Larm,2) - 2*(dap + dpdp)*Larm*Cos(otherAngle)))) +                4*Power(Larm,2)*(3*Power(mintakeup,2) + 2*Sqrt(Power(dap,2) + Power(Larm,2) - 2*dap*Larm*Cos(otherAngle))*                   Sqrt(Power(dap + dpdp,2) + Power(Larm,2) - 2*(dap + dpdp)*Larm*Cos(otherAngle)) -                   4*mintakeup*(Sqrt(Power(dap,2) + Power(Larm,2) - 2*dap*Larm*Cos(otherAngle)) + Sqrt(Power(dap + dpdp,2) + Power(Larm,2) - 2*(dap + dpdp)*Larm*Cos(otherAngle))))                 + Power(mintakeup,2)*(Power(mintakeup,2) + 12*Sqrt(Power(dap,2) + Power(Larm,2) - 2*dap*Larm*Cos(otherAngle))*                   Sqrt(Power(dap + dpdp,2) + Power(Larm,2) - 2*(dap + dpdp)*Larm*Cos(otherAngle)) -                   4*mintakeup*(Sqrt(Power(dap,2) + Power(Larm,2) - 2*dap*Larm*Cos(otherAngle)) + Sqrt(Power(dap + dpdp,2) + Power(Larm,2) - 2*(dap + dpdp)*Larm*Cos(otherAngle))))                 + 8*dpdp*mintakeup*(Power(mintakeup,2) + 6*Sqrt(Power(dap,2) + Power(Larm,2) - 2*dap*Larm*Cos(otherAngle))*                   Sqrt(Power(dap + dpdp,2) + Power(Larm,2) - 2*(dap + dpdp)*Larm*Cos(otherAngle)) -                   3*mintakeup*(Sqrt(Power(dap,2) + Power(Larm,2) - 2*dap*Larm*Cos(otherAngle)) + Sqrt(Power(dap + dpdp,2) + Power(Larm,2) - 2*(dap + dpdp)*Larm*Cos(otherAngle))))               ) + 2*Larm*Cos(otherAngle)*(-16*Power(dap,5) - 40*Power(dap,4)*dpdp - Power(dpdp,3)*Power(Larm,2) -                2*Power(dap,3)*(41*Power(dpdp,2) + 8*Power(Larm,2) + 24*dpdp*mintakeup + 6*Power(mintakeup,2) +                   4*Sqrt(Power(dap,2) + Power(Larm,2) - 2*dap*Larm*Cos(otherAngle))*Sqrt(Power(dap + dpdp,2) + Power(Larm,2) - 2*(dap + dpdp)*Larm*Cos(otherAngle)) -                   16*dpdp*(Sqrt(Power(dap,2) + Power(Larm,2) - 2*dap*Larm*Cos(otherAngle)) + Sqrt(Power(dap + dpdp,2) + Power(Larm,2) - 2*(dap + dpdp)*Larm*Cos(otherAngle))) -                   8*mintakeup*(Sqrt(Power(dap,2) + Power(Larm,2) - 2*dap*Larm*Cos(otherAngle)) + Sqrt(Power(dap + dpdp,2) + Power(Larm,2) - 2*(dap + dpdp)*Larm*Cos(otherAngle))))                 + dap*Power(dpdp,2)*(-25*Power(dpdp,2) - 10*Power(Larm,2) - 6*Power(mintakeup,2) -                   4*Sqrt(Power(dap,2) + Power(Larm,2) - 2*dap*Larm*Cos(otherAngle))*Sqrt(Power(dap + dpdp,2) + Power(Larm,2) - 2*(dap + dpdp)*Larm*Cos(otherAngle)) +                   4*mintakeup*(3*Sqrt(Power(dap,2) + Power(Larm,2) - 2*dap*Larm*Cos(otherAngle)) +                      Sqrt(Power(dap + dpdp,2) + Power(Larm,2) - 2*(dap + dpdp)*Larm*Cos(otherAngle))) +                   8*dpdp*(-3*mintakeup + 3*Sqrt(Power(dap,2) + Power(Larm,2) - 2*dap*Larm*Cos(otherAngle)) +                      Sqrt(Power(dap + dpdp,2) + Power(Larm,2) - 2*(dap + dpdp)*Larm*Cos(otherAngle)))) +                Power(dap,2)*dpdp*(-83*Power(dpdp,2) + 8*dpdp*(-9*mintakeup + 7*Sqrt(Power(dap,2) + Power(Larm,2) - 2*dap*Larm*Cos(otherAngle)) +                      5*Sqrt(Power(dap + dpdp,2) + Power(Larm,2) - 2*(dap + dpdp)*Larm*Cos(otherAngle))) -                   2*(12*Power(Larm,2) + 9*Power(mintakeup,2) + 6*Sqrt(Power(dap,2) + Power(Larm,2) - 2*dap*Larm*Cos(otherAngle))*                      Sqrt(Power(dap + dpdp,2) + Power(Larm,2) - 2*(dap + dpdp)*Larm*Cos(otherAngle)) -                      2*mintakeup*(7*Sqrt(Power(dap,2) + Power(Larm,2) - 2*dap*Larm*Cos(otherAngle)) +                         5*Sqrt(Power(dap + dpdp,2) + Power(Larm,2) - 2*(dap + dpdp)*Larm*Cos(otherAngle)))))) +             2*dap*(dap + dpdp)*(8*Power(dap,2) + 8*dap*dpdp + Power(dpdp,2))*Power(Larm,2)*Cos(2*otherAngle))))/(2.*Power(dpdp,2)*Power(Larm,2)))\n"
     ]
    }
   ],
   "source": [
    "cform = input(\"Enter Mathematica CForm: \")"
   ]
  },
  {
   "cell_type": "code",
   "execution_count": 18,
   "id": "d25b9ed5-7dd6-420d-93a5-1ef9f34d7d5a",
   "metadata": {},
   "outputs": [],
   "source": [
    "process_cform = {\n",
    "    \"ArcCos\": \"acos\",\n",
    "    \"Cos\" : \"cos\",\n",
    "    \"Sin\" : \"sin\",\n",
    "    \"Power\": \"pow\",\n",
    "    \"Sqrt\": \"sqrt\",\n",
    "    \"\\n\": \"\",\n",
    "    \" \": \"\"\n",
    "}"
   ]
  },
  {
   "cell_type": "code",
   "execution_count": 19,
   "id": "a10927b8-b833-4f0c-99aa-72eee3df4154",
   "metadata": {},
   "outputs": [
    {
     "data": {
      "text/plain": [
       "'acos((-((2*dap+dpdp)*Larm*(2*pow(dap,2)+2*dap*dpdp+2*pow(Larm,2)+pow(2*dpdp+mintakeup,2)))+2*(2*dap+dpdp)*Larm*((2*dap+dpdp)*Larm*cos(otherAngle)+mintakeup*sqrt(pow(dap,2)+pow(Larm,2)-2*dap*Larm*cos(otherAngle))+mintakeup*sqrt(pow(dap+dpdp,2)+pow(Larm,2)-2*(dap+dpdp)*Larm*cos(otherAngle))-sqrt(pow(dap,2)+pow(Larm,2)-2*dap*Larm*cos(otherAngle))*sqrt(pow(dap+dpdp,2)+pow(Larm,2)-2*(dap+dpdp)*Larm*cos(otherAngle))+2*dpdp*(sqrt(pow(dap,2)+pow(Larm,2)-2*dap*Larm*cos(otherAngle))+sqrt(pow(dap+dpdp,2)+pow(Larm,2)-2*(dap+dpdp)*Larm*cos(otherAngle))))+2*sqrt(pow(Larm,2)*(8*pow(dap,6)+24*pow(dap,5)*dpdp+2*pow(dap,4)*(37*pow(dpdp,2)+16*pow(Larm,2)+24*dpdp*mintakeup+6*pow(mintakeup,2)+4*sqrt(pow(dap,2)+pow(Larm,2)-2*dap*Larm*cos(otherAngle))*sqrt(pow(dap+dpdp,2)+pow(Larm,2)-2*(dap+dpdp)*Larm*cos(otherAngle))-16*dpdp*(sqrt(pow(dap,2)+pow(Larm,2)-2*dap*Larm*cos(otherAngle))+sqrt(pow(dap+dpdp,2)+pow(Larm,2)-2*(dap+dpdp)*Larm*cos(otherAngle)))-8*mintakeup*(sqrt(pow(dap,2)+pow(Larm,2)-2*dap*Larm*cos(otherAngle))+sqrt(pow(dap+dpdp,2)+pow(Larm,2)-2*(dap+dpdp)*Larm*cos(otherAngle))))+pow(dpdp,2)*pow(Larm,2)*(5*pow(dpdp,2)+2*pow(Larm,2)+pow(mintakeup,2)+2*sqrt(pow(dap,2)+pow(Larm,2)-2*dap*Larm*cos(otherAngle))*sqrt(pow(dap+dpdp,2)+pow(Larm,2)-2*(dap+dpdp)*Larm*cos(otherAngle))-2*mintakeup*(sqrt(pow(dap,2)+pow(Larm,2)-2*dap*Larm*cos(otherAngle))+sqrt(pow(dap+dpdp,2)+pow(Larm,2)-2*(dap+dpdp)*Larm*cos(otherAngle)))-4*dpdp*(-mintakeup+sqrt(pow(dap,2)+pow(Larm,2)-2*dap*Larm*cos(otherAngle))+sqrt(pow(dap+dpdp,2)+pow(Larm,2)-2*(dap+dpdp)*Larm*cos(otherAngle))))+4*pow(dap,3)*dpdp*(27*pow(dpdp,2)+16*pow(Larm,2)+6*pow(mintakeup,2)-10*mintakeup*sqrt(pow(dap,2)+pow(Larm,2)-2*dap*Larm*cos(otherAngle))-6*mintakeup*sqrt(pow(dap+dpdp,2)+pow(Larm,2)-2*(dap+dpdp)*Larm*cos(otherAngle))+4*sqrt(pow(dap,2)+pow(Larm,2)-2*dap*Larm*cos(otherAngle))*sqrt(pow(dap+dpdp,2)+pow(Larm,2)-2*(dap+dpdp)*Larm*cos(otherAngle))-4*dpdp*(-6*mintakeup+5*sqrt(pow(dap,2)+pow(Larm,2)-2*dap*Larm*cos(otherAngle))+3*sqrt(pow(dap+dpdp,2)+pow(Larm,2)-2*(dap+dpdp)*Larm*cos(otherAngle))))+dap*dpdp*(36*pow(dpdp,4)+8*pow(Larm,4)-4*pow(dpdp,3)*(-13*mintakeup+13*sqrt(pow(dap,2)+pow(Larm,2)-2*dap*Larm*cos(otherAngle))+9*sqrt(pow(dap+dpdp,2)+pow(Larm,2)-2*(dap+dpdp)*Larm*cos(otherAngle)))+pow(dpdp,2)*(58*pow(Larm,2)+29*pow(mintakeup,2)-58*mintakeup*sqrt(pow(dap,2)+pow(Larm,2)-2*dap*Larm*cos(otherAngle))-50*mintakeup*sqrt(pow(dap+dpdp,2)+pow(Larm,2)-2*(dap+dpdp)*Larm*cos(otherAngle))+50*sqrt(pow(dap,2)+pow(Larm,2)-2*dap*Larm*cos(otherAngle))*sqrt(pow(dap+dpdp,2)+pow(Larm,2)-2*(dap+dpdp)*Larm*cos(otherAngle)))-8*dpdp*pow(Larm,2)*(-6*mintakeup+4*(sqrt(pow(dap,2)+pow(Larm,2)-2*dap*Larm*cos(otherAngle))+sqrt(pow(dap+dpdp,2)+pow(Larm,2)-2*(dap+dpdp)*Larm*cos(otherAngle))))+4*pow(Larm,2)*(3*pow(mintakeup,2)+2*sqrt(pow(dap,2)+pow(Larm,2)-2*dap*Larm*cos(otherAngle))*sqrt(pow(dap+dpdp,2)+pow(Larm,2)-2*(dap+dpdp)*Larm*cos(otherAngle))-4*mintakeup*(sqrt(pow(dap,2)+pow(Larm,2)-2*dap*Larm*cos(otherAngle))+sqrt(pow(dap+dpdp,2)+pow(Larm,2)-2*(dap+dpdp)*Larm*cos(otherAngle))))+pow(mintakeup,2)*(pow(mintakeup,2)+12*sqrt(pow(dap,2)+pow(Larm,2)-2*dap*Larm*cos(otherAngle))*sqrt(pow(dap+dpdp,2)+pow(Larm,2)-2*(dap+dpdp)*Larm*cos(otherAngle))-4*mintakeup*(sqrt(pow(dap,2)+pow(Larm,2)-2*dap*Larm*cos(otherAngle))+sqrt(pow(dap+dpdp,2)+pow(Larm,2)-2*(dap+dpdp)*Larm*cos(otherAngle))))+8*dpdp*mintakeup*(pow(mintakeup,2)+6*sqrt(pow(dap,2)+pow(Larm,2)-2*dap*Larm*cos(otherAngle))*sqrt(pow(dap+dpdp,2)+pow(Larm,2)-2*(dap+dpdp)*Larm*cos(otherAngle))-3*mintakeup*(sqrt(pow(dap,2)+pow(Larm,2)-2*dap*Larm*cos(otherAngle))+sqrt(pow(dap+dpdp,2)+pow(Larm,2)-2*(dap+dpdp)*Larm*cos(otherAngle)))))+pow(dap,2)*(86*pow(dpdp,4)+8*pow(Larm,4)-4*pow(dpdp,3)*(-25*mintakeup+25*sqrt(pow(dap,2)+pow(Larm,2)-2*dap*Larm*cos(otherAngle))+13*sqrt(pow(dap+dpdp,2)+pow(Larm,2)-2*(dap+dpdp)*Larm*cos(otherAngle)))+pow(dpdp,2)*(90*pow(Larm,2)+41*pow(mintakeup,2)-82*mintakeup*sqrt(pow(dap,2)+pow(Larm,2)-2*dap*Larm*cos(otherAngle))-58*mintakeup*sqrt(pow(dap+dpdp,2)+pow(Larm,2)-2*(dap+dpdp)*Larm*cos(otherAngle))+58*sqrt(pow(dap,2)+pow(Larm,2)-2*dap*Larm*cos(otherAngle))*sqrt(pow(dap+dpdp,2)+pow(Larm,2)-2*(dap+dpdp)*Larm*cos(otherAngle)))-8*dpdp*pow(Larm,2)*(-6*mintakeup+4*(sqrt(pow(dap,2)+pow(Larm,2)-2*dap*Larm*cos(otherAngle))+sqrt(pow(dap+dpdp,2)+pow(Larm,2)-2*(dap+dpdp)*Larm*cos(otherAngle))))+4*pow(Larm,2)*(3*pow(mintakeup,2)+2*sqrt(pow(dap,2)+pow(Larm,2)-2*dap*Larm*cos(otherAngle))*sqrt(pow(dap+dpdp,2)+pow(Larm,2)-2*(dap+dpdp)*Larm*cos(otherAngle))-4*mintakeup*(sqrt(pow(dap,2)+pow(Larm,2)-2*dap*Larm*cos(otherAngle))+sqrt(pow(dap+dpdp,2)+pow(Larm,2)-2*(dap+dpdp)*Larm*cos(otherAngle))))+pow(mintakeup,2)*(pow(mintakeup,2)+12*sqrt(pow(dap,2)+pow(Larm,2)-2*dap*Larm*cos(otherAngle))*sqrt(pow(dap+dpdp,2)+pow(Larm,2)-2*(dap+dpdp)*Larm*cos(otherAngle))-4*mintakeup*(sqrt(pow(dap,2)+pow(Larm,2)-2*dap*Larm*cos(otherAngle))+sqrt(pow(dap+dpdp,2)+pow(Larm,2)-2*(dap+dpdp)*Larm*cos(otherAngle))))+8*dpdp*mintakeup*(pow(mintakeup,2)+6*sqrt(pow(dap,2)+pow(Larm,2)-2*dap*Larm*cos(otherAngle))*sqrt(pow(dap+dpdp,2)+pow(Larm,2)-2*(dap+dpdp)*Larm*cos(otherAngle))-3*mintakeup*(sqrt(pow(dap,2)+pow(Larm,2)-2*dap*Larm*cos(otherAngle))+sqrt(pow(dap+dpdp,2)+pow(Larm,2)-2*(dap+dpdp)*Larm*cos(otherAngle)))))+2*Larm*cos(otherAngle)*(-16*pow(dap,5)-40*pow(dap,4)*dpdp-pow(dpdp,3)*pow(Larm,2)-2*pow(dap,3)*(41*pow(dpdp,2)+8*pow(Larm,2)+24*dpdp*mintakeup+6*pow(mintakeup,2)+4*sqrt(pow(dap,2)+pow(Larm,2)-2*dap*Larm*cos(otherAngle))*sqrt(pow(dap+dpdp,2)+pow(Larm,2)-2*(dap+dpdp)*Larm*cos(otherAngle))-16*dpdp*(sqrt(pow(dap,2)+pow(Larm,2)-2*dap*Larm*cos(otherAngle))+sqrt(pow(dap+dpdp,2)+pow(Larm,2)-2*(dap+dpdp)*Larm*cos(otherAngle)))-8*mintakeup*(sqrt(pow(dap,2)+pow(Larm,2)-2*dap*Larm*cos(otherAngle))+sqrt(pow(dap+dpdp,2)+pow(Larm,2)-2*(dap+dpdp)*Larm*cos(otherAngle))))+dap*pow(dpdp,2)*(-25*pow(dpdp,2)-10*pow(Larm,2)-6*pow(mintakeup,2)-4*sqrt(pow(dap,2)+pow(Larm,2)-2*dap*Larm*cos(otherAngle))*sqrt(pow(dap+dpdp,2)+pow(Larm,2)-2*(dap+dpdp)*Larm*cos(otherAngle))+4*mintakeup*(3*sqrt(pow(dap,2)+pow(Larm,2)-2*dap*Larm*cos(otherAngle))+sqrt(pow(dap+dpdp,2)+pow(Larm,2)-2*(dap+dpdp)*Larm*cos(otherAngle)))+8*dpdp*(-3*mintakeup+3*sqrt(pow(dap,2)+pow(Larm,2)-2*dap*Larm*cos(otherAngle))+sqrt(pow(dap+dpdp,2)+pow(Larm,2)-2*(dap+dpdp)*Larm*cos(otherAngle))))+pow(dap,2)*dpdp*(-83*pow(dpdp,2)+8*dpdp*(-9*mintakeup+7*sqrt(pow(dap,2)+pow(Larm,2)-2*dap*Larm*cos(otherAngle))+5*sqrt(pow(dap+dpdp,2)+pow(Larm,2)-2*(dap+dpdp)*Larm*cos(otherAngle)))-2*(12*pow(Larm,2)+9*pow(mintakeup,2)+6*sqrt(pow(dap,2)+pow(Larm,2)-2*dap*Larm*cos(otherAngle))*sqrt(pow(dap+dpdp,2)+pow(Larm,2)-2*(dap+dpdp)*Larm*cos(otherAngle))-2*mintakeup*(7*sqrt(pow(dap,2)+pow(Larm,2)-2*dap*Larm*cos(otherAngle))+5*sqrt(pow(dap+dpdp,2)+pow(Larm,2)-2*(dap+dpdp)*Larm*cos(otherAngle))))))+2*dap*(dap+dpdp)*(8*pow(dap,2)+8*dap*dpdp+pow(dpdp,2))*pow(Larm,2)*cos(2*otherAngle))))/(2.*pow(dpdp,2)*pow(Larm,2)))'"
      ]
     },
     "execution_count": 19,
     "metadata": {},
     "output_type": "execute_result"
    }
   ],
   "source": [
    "process_text(cform, process_cform)"
   ]
  },
  {
   "cell_type": "code",
   "execution_count": null,
   "id": "204e0c2a-fe8a-4d40-924f-a9b2accdd833",
   "metadata": {},
   "outputs": [],
   "source": []
  }
 ],
 "metadata": {
  "kernelspec": {
   "display_name": "Python 3 (ipykernel)",
   "language": "python",
   "name": "python3"
  },
  "language_info": {
   "codemirror_mode": {
    "name": "ipython",
    "version": 3
   },
   "file_extension": ".py",
   "mimetype": "text/x-python",
   "name": "python",
   "nbconvert_exporter": "python",
   "pygments_lexer": "ipython3",
   "version": "3.9.12"
  }
 },
 "nbformat": 4,
 "nbformat_minor": 5
}
