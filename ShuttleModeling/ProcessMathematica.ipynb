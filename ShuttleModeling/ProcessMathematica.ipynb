{
 "cells": [
  {
   "cell_type": "code",
   "execution_count": 35,
   "id": "5dfe584b-edd4-4a93-9297-6fde93c53cd3",
   "metadata": {},
   "outputs": [
    {
     "name": "stdin",
     "output_type": "stream",
     "text": [
      "Enter eq:  (850 \\[Pi]^(1/4) x-2 85^(3/4) sqrt (x (-1+212500 \\[Pi] x^3))^(1/4))/(850 \\[Pi]^(1/4))\n"
     ]
    }
   ],
   "source": [
    "input_text = input(\"Enter eq: \")"
   ]
  },
  {
   "cell_type": "code",
   "execution_count": 36,
   "id": "fe8dae54-3984-4a29-ab22-10a7f276c6f8",
   "metadata": {},
   "outputs": [],
   "source": [
    "process = {\n",
    "    \")(\": \")*(\",\n",
    "\" -\": \"-\",\n",
    "    \" +\": \"+\",\n",
    "    \". \": \"*\",\n",
    "    \" \": \"*\",\n",
    "    \"^\": \"**\",\n",
    "    \"Sqrt\": \"math.sqrt\",\n",
    "    \"Cos\": \"math.cos\",\n",
    "    \"Sin\": \"math.sin\",\n",
    "    \"Csc\" : \"mp.csc\",\n",
    "    \"Cot\" : \"mp.cot\",\n",
    "    \"\\[Pi]\" : \"math.pi\",\n",
    "    \"[\": \"(\",\n",
    "    \"]\": \")\"\n",
    "}"
   ]
  },
  {
   "cell_type": "code",
   "execution_count": 37,
   "id": "a9604b8d-90f8-469a-98b5-c4249845e6e7",
   "metadata": {},
   "outputs": [
    {
     "name": "stdout",
     "output_type": "stream",
     "text": [
      "(850*math.pi**(1/4)*x-2*85**(3/4)*sqrt*(x*(-1+212500*math.pi*x**3))**(1/4))/(850*math.pi**(1/4))\n"
     ]
    }
   ],
   "source": [
    "out_text = input_text\n",
    "for mathematica, python in process.items():\n",
    "    out_text = out_text.replace(mathematica, python)\n",
    "print(out_text)"
   ]
  },
  {
   "cell_type": "code",
   "execution_count": 21,
   "id": "6db2e43a-eaf0-4229-a9c7-e677166e6a24",
   "metadata": {},
   "outputs": [
    {
     "name": "stdout",
     "output_type": "stream",
     "text": [
      "(\n",
      "    15 * math.pi ** (1 / 4) * x\n",
      "    - 3 ** (3 / 4) * 5 ** (1 / 4) * (x * (-2 + 375 * math.pi * x**3)) ** (1 / 4)\n",
      ") / (15 * math.pi ** (1 / 4))\n",
      "\n"
     ]
    }
   ],
   "source": [
    "from black import format_str, FileMode\n",
    "formatted = format_str(out_text, mode=FileMode())\n",
    "print(formatted)"
   ]
  },
  {
   "cell_type": "code",
   "execution_count": 41,
   "id": "972ea8d0-0c79-46f1-8315-da0b0b092f80",
   "metadata": {},
   "outputs": [],
   "source": [
    "cform = \"\"\"-2*dpdp + sqrt(Power(dap,2) + Power(Larm,2) - 2*dap*Larm*Cos(leftArmAngle)) + Sqrt(Power(dap + dpdp,2) + Power(Larm,2) - 2*(dap + dpdp)*Larm*Cos(leftArmAngle)) + \n",
    "   Sqrt(Power(dap,2) + Power(Larm,2) - 2*dap*Larm*Cos(rightArmAngle)) + Sqrt(Power(dap + dpdp,2) + Power(Larm,2) - 2*(dap + dpdp)*Larm*Cos(rightArmAngle))\"\"\""
   ]
  },
  {
   "cell_type": "code",
   "execution_count": 43,
   "id": "a10927b8-b833-4f0c-99aa-72eee3df4154",
   "metadata": {},
   "outputs": [
    {
     "data": {
      "text/plain": [
       "'-2*dpdp+sqrt(pow(dap,2)+pow(Larm,2)-2*dap*Larm*cos(leftArmAngle))+sqrt(pow(dap+dpdp,2)+pow(Larm,2)-2*(dap+dpdp)*Larm*cos(leftArmAngle))+sqrt(pow(dap,2)+pow(Larm,2)-2*dap*Larm*cos(rightArmAngle))+sqrt(pow(dap+dpdp,2)+pow(Larm,2)-2*(dap+dpdp)*Larm*cos(rightArmAngle))'"
      ]
     },
     "execution_count": 43,
     "metadata": {},
     "output_type": "execute_result"
    }
   ],
   "source": [
    "cform.replace(\"Cos\", \"cos\").replace(\"Power\", \"pow\").replace(\"Sqrt\", \"sqrt\").replace(\"\\n\", \"\").replace(\" \", \"\")"
   ]
  },
  {
   "cell_type": "code",
   "execution_count": null,
   "id": "ca72a8eb-d523-4ac6-8982-4639beb21976",
   "metadata": {},
   "outputs": [],
   "source": []
  }
 ],
 "metadata": {
  "kernelspec": {
   "display_name": "Python 3 (ipykernel)",
   "language": "python",
   "name": "python3"
  },
  "language_info": {
   "codemirror_mode": {
    "name": "ipython",
    "version": 3
   },
   "file_extension": ".py",
   "mimetype": "text/x-python",
   "name": "python",
   "nbconvert_exporter": "python",
   "pygments_lexer": "ipython3",
   "version": "3.9.12"
  }
 },
 "nbformat": 4,
 "nbformat_minor": 5
}
