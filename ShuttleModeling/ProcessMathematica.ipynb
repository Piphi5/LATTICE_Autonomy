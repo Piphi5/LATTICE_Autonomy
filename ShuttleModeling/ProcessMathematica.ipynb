{
 "cells": [
  {
   "cell_type": "code",
   "execution_count": 22,
   "id": "5dfe584b-edd4-4a93-9297-6fde93c53cd3",
   "metadata": {},
   "outputs": [],
   "source": [
    "input_text = \"(2 Larm^2 u1 Cos[x1] Sin[x1]+2 Larm u1 (dap+dpdp-Larm Cos[x1]) Sin[x1])/(2 Sqrt[(dap+dpdp-Larm Cos[x1])^2+Larm^2 Sin[x1]^2])+(2 Larm^2 u1 Cos[x1] Sin[x1]-2 Larm u1 (-dap+Larm Cos[x1]) Sin[x1])/(2 Sqrt[(-dap+Larm Cos[x1])^2+Larm^2 Sin[x1]^2])+(2 Larm^2 u2 Cos[x2] Sin[x2]+2 Larm u2 (dap+dpdp-Larm Cos[x2]) Sin[x2])/(2 Sqrt[(dap+dpdp-Larm Cos[x2])^2+Larm^2 Sin[x2]^2])+(2 Larm^2 u2 Cos[x2] Sin[x2]-2 Larm u2 (-dap+Larm Cos[x2]) Sin[x2])/(2 Sqrt[(-dap+Larm Cos[x2])^2+Larm^2 Sin[x2]^2])\""
   ]
  },
  {
   "cell_type": "code",
   "execution_count": 23,
   "id": "a9604b8d-90f8-469a-98b5-c4249845e6e7",
   "metadata": {},
   "outputs": [
    {
     "data": {
      "text/plain": [
       "'(2*Larm**2*u1*math.cos(x1)*math.sin(x1)+2*Larm*u1*(dap+dpdp-Larm*math.cos(x1))*math.sin(x1))/(2*math.sqrt((dap+dpdp-Larm*math.cos(x1))**2+Larm**2*math.sin(x1)**2))+(2*Larm**2*u1*math.cos(x1)*math.sin(x1)-2*Larm*u1*(-dap+Larm*math.cos(x1))*math.sin(x1))/(2*math.sqrt((-dap+Larm*math.cos(x1))**2+Larm**2*math.sin(x1)**2))+(2*Larm**2*u2*math.cos(x2)*math.sin(x2)+2*Larm*u2*(dap+dpdp-Larm*math.cos(x2))*math.sin(x2))/(2*math.sqrt((dap+dpdp-Larm*math.cos(x2))**2+Larm**2*math.sin(x2)**2))+(2*Larm**2*u2*math.cos(x2)*math.sin(x2)-2*Larm*u2*(-dap+Larm*math.cos(x2))*math.sin(x2))/(2*math.sqrt((-dap+Larm*math.cos(x2))**2+Larm**2*math.sin(x2)**2))'"
      ]
     },
     "execution_count": 23,
     "metadata": {},
     "output_type": "execute_result"
    }
   ],
   "source": [
    "input_text.replace(\"\\\\\", \"\").replace(\") (\", \")*(\").replace(\" -\", \"-\").replace(\" +\", \"+\").replace(\". \", \"*\").replace(\" \", \"*\").replace(\"^\", \"**\").replace(\"Sqrt\", \"math.sqrt\").replace(\"Cos\", \"math.cos\").replace(\"Sin\", \"math.sin\").replace(\"[\", \"(\").replace(\"]\", \")\")"
   ]
  },
  {
   "cell_type": "code",
   "execution_count": 34,
   "id": "38d09ea9-8303-465f-9057-5bf01a6dd3c0",
   "metadata": {},
   "outputs": [],
   "source": [
    "import math\n",
    "def thing(poscable, cablespan, lencable, takeup):\n",
    "    return math.sqrt(poscable**2-(cablespan**2+2*poscable*(lencable-takeup)-(lencable-takeup)**2)**2/(4*cablespan**2))"
   ]
  },
  {
   "cell_type": "code",
   "execution_count": 39,
   "id": "51517dc2-0442-48ac-a5cc-e79bc68f4e43",
   "metadata": {},
   "outputs": [
    {
     "data": {
      "text/plain": [
       "0.0"
      ]
     },
     "execution_count": 39,
     "metadata": {},
     "output_type": "execute_result"
    }
   ],
   "source": [
    "thing(1, 25, 26, 1)"
   ]
  },
  {
   "cell_type": "code",
   "execution_count": 17,
   "id": "a3191afb-2fde-4cf6-be67-3e1932cbdbf8",
   "metadata": {},
   "outputs": [
    {
     "ename": "NameError",
     "evalue": "name 'dpdp' is not defined",
     "output_type": "error",
     "traceback": [
      "\u001b[1;31m---------------------------------------------------------------------------\u001b[0m",
      "\u001b[1;31mNameError\u001b[0m                                 Traceback (most recent call last)",
      "Input \u001b[1;32mIn [17]\u001b[0m, in \u001b[0;36m<cell line: 1>\u001b[1;34m()\u001b[0m\n\u001b[1;32m----> 1\u001b[0m (\u001b[38;5;241m1\u001b[39m\u001b[38;5;241m/\u001b[39m(\u001b[38;5;241m8\u001b[39m\u001b[38;5;241m*\u001b[39m\u001b[43mdpdp\u001b[49m\u001b[38;5;241m*\u001b[39m\u001b[38;5;241m*\u001b[39m\u001b[38;5;241m2\u001b[39m\u001b[38;5;241m*\u001b[39mLarm\u001b[38;5;241m*\u001b[39m\u001b[38;5;241m*\u001b[39m\u001b[38;5;241m2\u001b[39m))(\u001b[38;5;241m-\u001b[39mLarm\u001b[38;5;241m*\u001b[39m(\u001b[38;5;241m16\u001b[39m\u001b[38;5;241m*\u001b[39mdap\u001b[38;5;241m*\u001b[39m\u001b[38;5;241m*\u001b[39m\u001b[38;5;241m3\u001b[39m\u001b[38;5;241m+\u001b[39m\u001b[38;5;241m24\u001b[39m\u001b[38;5;241m*\u001b[39mdap\u001b[38;5;241m*\u001b[39m\u001b[38;5;241m*\u001b[39m\u001b[38;5;241m2\u001b[39m\u001b[38;5;241m*\u001b[39mdpdp\u001b[38;5;241m+\u001b[39m\u001b[38;5;241m8\u001b[39m\u001b[38;5;241m*\u001b[39mdap\u001b[38;5;241m*\u001b[39mdpdp\u001b[38;5;241m*\u001b[39m\u001b[38;5;241m*\u001b[39m\u001b[38;5;241m2\u001b[39m\u001b[38;5;241m+\u001b[39m\u001b[38;5;241m16\u001b[39m\u001b[38;5;241m*\u001b[39mdap\u001b[38;5;241m*\u001b[39mmath\u001b[38;5;241m.\u001b[39msqrt((dap\u001b[38;5;241m-\u001b[39mLarm)\u001b[38;5;241m*\u001b[39m\u001b[38;5;241m*\u001b[39m\u001b[38;5;241m2\u001b[39m)\u001b[38;5;241m*\u001b[39mmath\u001b[38;5;241m.\u001b[39msqrt((dap\u001b[38;5;241m+\u001b[39mdpdp\u001b[38;5;241m-\u001b[39mLarm)\u001b[38;5;241m*\u001b[39m\u001b[38;5;241m*\u001b[39m\u001b[38;5;241m2\u001b[39m)\u001b[38;5;241m+\u001b[39m\u001b[38;5;241m8\u001b[39m\u001b[38;5;241m*\u001b[39mdpdp\u001b[38;5;241m*\u001b[39mmath\u001b[38;5;241m.\u001b[39msqrt((dap\u001b[38;5;241m-\u001b[39mLarm)\u001b[38;5;241m*\u001b[39m\u001b[38;5;241m*\u001b[39m\u001b[38;5;241m2\u001b[39m)\u001b[38;5;241m*\u001b[39mmath\u001b[38;5;241m.\u001b[39msqrt((dap\u001b[38;5;241m+\u001b[39mdpdp\u001b[38;5;241m-\u001b[39mLarm)\u001b[38;5;241m*\u001b[39m\u001b[38;5;241m*\u001b[39m\u001b[38;5;241m2\u001b[39m)\u001b[38;5;241m-\u001b[39m\u001b[38;5;241m32\u001b[39m\u001b[38;5;241m*\u001b[39mdap\u001b[38;5;241m*\u001b[39m\u001b[38;5;241m*\u001b[39m\u001b[38;5;241m2\u001b[39m\u001b[38;5;241m*\u001b[39mLarm\u001b[38;5;241m-\u001b[39m\u001b[38;5;241m32\u001b[39m\u001b[38;5;241m*\u001b[39mdap\u001b[38;5;241m*\u001b[39mdpdp\u001b[38;5;241m*\u001b[39mLarm\u001b[38;5;241m-\u001b[39m\u001b[38;5;241m8\u001b[39m\u001b[38;5;241m*\u001b[39mdpdp\u001b[38;5;241m*\u001b[39m\u001b[38;5;241m*\u001b[39m\u001b[38;5;241m2\u001b[39m\u001b[38;5;241m*\u001b[39mLarm\u001b[38;5;241m+\u001b[39m\u001b[38;5;241m16\u001b[39m\u001b[38;5;241m*\u001b[39mdap\u001b[38;5;241m*\u001b[39mLarm\u001b[38;5;241m*\u001b[39m\u001b[38;5;241m*\u001b[39m\u001b[38;5;241m2\u001b[39m\u001b[38;5;241m+\u001b[39m\u001b[38;5;241m8\u001b[39m\u001b[38;5;241m*\u001b[39mdpdp\u001b[38;5;241m*\u001b[39mLarm\u001b[38;5;241m*\u001b[39m\u001b[38;5;241m*\u001b[39m\u001b[38;5;241m2\u001b[39m\u001b[38;5;241m-\u001b[39m\u001b[38;5;241m16\u001b[39m\u001b[38;5;241m*\u001b[39mdap\u001b[38;5;241m*\u001b[39mmath\u001b[38;5;241m.\u001b[39msqrt((dap\u001b[38;5;241m-\u001b[39mLarm)\u001b[38;5;241m*\u001b[39m\u001b[38;5;241m*\u001b[39m\u001b[38;5;241m2\u001b[39m)\u001b[38;5;241m*\u001b[39mmintakeup\u001b[38;5;241m-\u001b[39m\u001b[38;5;241m8\u001b[39m\u001b[38;5;241m*\u001b[39mdpdp\u001b[38;5;241m*\u001b[39mmath\u001b[38;5;241m.\u001b[39msqrt((dap\u001b[38;5;241m-\u001b[39mLarm)\u001b[38;5;241m*\u001b[39m\u001b[38;5;241m*\u001b[39m\u001b[38;5;241m2\u001b[39m)\u001b[38;5;241m*\u001b[39mmintakeup\u001b[38;5;241m-\u001b[39m\u001b[38;5;241m16\u001b[39m\u001b[38;5;241m*\u001b[39mdap\u001b[38;5;241m*\u001b[39mmath\u001b[38;5;241m.\u001b[39msqrt((dap\u001b[38;5;241m+\u001b[39mdpdp\u001b[38;5;241m-\u001b[39mLarm)\u001b[38;5;241m*\u001b[39m\u001b[38;5;241m*\u001b[39m\u001b[38;5;241m2\u001b[39m)\u001b[38;5;241m*\u001b[39mmintakeup\u001b[38;5;241m-\u001b[39m\u001b[38;5;241m8\u001b[39m\u001b[38;5;241m*\u001b[39mdpdp\u001b[38;5;241m*\u001b[39mmath\u001b[38;5;241m.\u001b[39msqrt((dap\u001b[38;5;241m+\u001b[39mdpdp\u001b[38;5;241m-\u001b[39mLarm)\u001b[38;5;241m*\u001b[39m\u001b[38;5;241m*\u001b[39m\u001b[38;5;241m2\u001b[39m)\u001b[38;5;241m*\u001b[39mmintakeup\u001b[38;5;241m+\u001b[39m\u001b[38;5;241m8\u001b[39m\u001b[38;5;241m*\u001b[39mdap\u001b[38;5;241m*\u001b[39mmintakeup\u001b[38;5;241m*\u001b[39m\u001b[38;5;241m*\u001b[39m\u001b[38;5;241m2\u001b[39m\u001b[38;5;241m+\u001b[39m\u001b[38;5;241m4\u001b[39m\u001b[38;5;241m*\u001b[39mdpdp\u001b[38;5;241m*\u001b[39mmintakeup\u001b[38;5;241m*\u001b[39m\u001b[38;5;241m*\u001b[39m\u001b[38;5;241m2\u001b[39m)\u001b[38;5;241m-\u001b[39m(math\u001b[38;5;241m.\u001b[39msqrt)(Larm\u001b[38;5;241m*\u001b[39m\u001b[38;5;241m*\u001b[39m\u001b[38;5;241m2\u001b[39m\u001b[38;5;241m*\u001b[39m(\u001b[38;5;241m16\u001b[39m\u001b[38;5;241m*\u001b[39mdap\u001b[38;5;241m*\u001b[39m\u001b[38;5;241m*\u001b[39m\u001b[38;5;241m3\u001b[39m\u001b[38;5;241m+\u001b[39m\u001b[38;5;241m24\u001b[39m\u001b[38;5;241m*\u001b[39mdap\u001b[38;5;241m*\u001b[39m\u001b[38;5;241m*\u001b[39m\u001b[38;5;241m2\u001b[39m\u001b[38;5;241m*\u001b[39mdpdp\u001b[38;5;241m+\u001b[39m\u001b[38;5;241m8\u001b[39m\u001b[38;5;241m*\u001b[39mdap\u001b[38;5;241m*\u001b[39mdpdp\u001b[38;5;241m*\u001b[39m\u001b[38;5;241m*\u001b[39m\u001b[38;5;241m2\u001b[39m\u001b[38;5;241m+\u001b[39m\u001b[38;5;241m16\u001b[39m\u001b[38;5;241m*\u001b[39mdap\u001b[38;5;241m*\u001b[39mmath\u001b[38;5;241m.\u001b[39msqrt((dap\u001b[38;5;241m-\u001b[39mLarm)\u001b[38;5;241m*\u001b[39m\u001b[38;5;241m*\u001b[39m\u001b[38;5;241m2\u001b[39m)\u001b[38;5;241m*\u001b[39mmath\u001b[38;5;241m.\u001b[39msqrt((dap\u001b[38;5;241m+\u001b[39mdpdp\u001b[38;5;241m-\u001b[39mLarm)\u001b[38;5;241m*\u001b[39m\u001b[38;5;241m*\u001b[39m\u001b[38;5;241m2\u001b[39m)\u001b[38;5;241m+\u001b[39m\u001b[38;5;241m8\u001b[39m\u001b[38;5;241m*\u001b[39mdpdp\u001b[38;5;241m*\u001b[39mmath\u001b[38;5;241m.\u001b[39msqrt((dap\u001b[38;5;241m-\u001b[39mLarm)\u001b[38;5;241m*\u001b[39m\u001b[38;5;241m*\u001b[39m\u001b[38;5;241m2\u001b[39m)\u001b[38;5;241m*\u001b[39mmath\u001b[38;5;241m.\u001b[39msqrt((dap\u001b[38;5;241m+\u001b[39mdpdp\u001b[38;5;241m-\u001b[39mLarm)\u001b[38;5;241m*\u001b[39m\u001b[38;5;241m*\u001b[39m\u001b[38;5;241m2\u001b[39m)\u001b[38;5;241m-\u001b[39m\u001b[38;5;241m32\u001b[39m\u001b[38;5;241m*\u001b[39mdap\u001b[38;5;241m*\u001b[39m\u001b[38;5;241m*\u001b[39m\u001b[38;5;241m2\u001b[39m\u001b[38;5;241m*\u001b[39mLarm\u001b[38;5;241m-\u001b[39m\u001b[38;5;241m32\u001b[39m\u001b[38;5;241m*\u001b[39mdap\u001b[38;5;241m*\u001b[39mdpdp\u001b[38;5;241m*\u001b[39mLarm\u001b[38;5;241m-\u001b[39m\u001b[38;5;241m8\u001b[39m\u001b[38;5;241m*\u001b[39mdpdp\u001b[38;5;241m*\u001b[39m\u001b[38;5;241m*\u001b[39m\u001b[38;5;241m2\u001b[39m\u001b[38;5;241m*\u001b[39mLarm\u001b[38;5;241m+\u001b[39m\u001b[38;5;241m16\u001b[39m\u001b[38;5;241m*\u001b[39mdap\u001b[38;5;241m*\u001b[39mLarm\u001b[38;5;241m*\u001b[39m\u001b[38;5;241m*\u001b[39m\u001b[38;5;241m2\u001b[39m\u001b[38;5;241m+\u001b[39m\u001b[38;5;241m8\u001b[39m\u001b[38;5;241m*\u001b[39mdpdp\u001b[38;5;241m*\u001b[39mLarm\u001b[38;5;241m*\u001b[39m\u001b[38;5;241m*\u001b[39m\u001b[38;5;241m2\u001b[39m\u001b[38;5;241m-\u001b[39m\u001b[38;5;241m16\u001b[39m\u001b[38;5;241m*\u001b[39mdap\u001b[38;5;241m*\u001b[39mmath\u001b[38;5;241m.\u001b[39msqrt((dap\u001b[38;5;241m-\u001b[39mLarm)\u001b[38;5;241m*\u001b[39m\u001b[38;5;241m*\u001b[39m\u001b[38;5;241m2\u001b[39m)\u001b[38;5;241m*\u001b[39mmintakeup\u001b[38;5;241m-\u001b[39m\u001b[38;5;241m8\u001b[39m\u001b[38;5;241m*\u001b[39mdpdp\u001b[38;5;241m*\u001b[39mmath\u001b[38;5;241m.\u001b[39msqrt((dap\u001b[38;5;241m-\u001b[39mLarm)\u001b[38;5;241m*\u001b[39m\u001b[38;5;241m*\u001b[39m\u001b[38;5;241m2\u001b[39m)\u001b[38;5;241m*\u001b[39mmintakeup\u001b[38;5;241m-\u001b[39m\u001b[38;5;241m16\u001b[39m\u001b[38;5;241m*\u001b[39mdap\u001b[38;5;241m*\u001b[39mmath\u001b[38;5;241m.\u001b[39msqrt((dap\u001b[38;5;241m+\u001b[39mdpdp\u001b[38;5;241m-\u001b[39mLarm)\u001b[38;5;241m*\u001b[39m\u001b[38;5;241m*\u001b[39m\u001b[38;5;241m2\u001b[39m)\u001b[38;5;241m*\u001b[39mmintakeup\u001b[38;5;241m-\u001b[39m\u001b[38;5;241m8\u001b[39m\u001b[38;5;241m*\u001b[39mdpdp\u001b[38;5;241m*\u001b[39mmath\u001b[38;5;241m.\u001b[39msqrt((dap\u001b[38;5;241m+\u001b[39mdpdp\u001b[38;5;241m-\u001b[39mLarm)\u001b[38;5;241m*\u001b[39m\u001b[38;5;241m*\u001b[39m\u001b[38;5;241m2\u001b[39m)\u001b[38;5;241m*\u001b[39mmintakeup\u001b[38;5;241m+\u001b[39m\u001b[38;5;241m8\u001b[39m\u001b[38;5;241m*\u001b[39mdap\u001b[38;5;241m*\u001b[39mmintakeup\u001b[38;5;241m*\u001b[39m\u001b[38;5;241m*\u001b[39m\u001b[38;5;241m2\u001b[39m\u001b[38;5;241m+\u001b[39m\u001b[38;5;241m4\u001b[39m\u001b[38;5;241m*\u001b[39mdpdp\u001b[38;5;241m*\u001b[39mmintakeup\u001b[38;5;241m*\u001b[39m\u001b[38;5;241m*\u001b[39m\u001b[38;5;241m2\u001b[39m)\u001b[38;5;241m*\u001b[39m\u001b[38;5;241m*\u001b[39m\u001b[38;5;241m2\u001b[39m\u001b[38;5;241m-\u001b[39m\u001b[38;5;241m16\u001b[39m\u001b[38;5;241m*\u001b[39mdpdp\u001b[38;5;241m*\u001b[39m\u001b[38;5;241m*\u001b[39m\u001b[38;5;241m2\u001b[39m\u001b[38;5;241m*\u001b[39mLarm\u001b[38;5;241m*\u001b[39m\u001b[38;5;241m*\u001b[39m\u001b[38;5;241m2\u001b[39m\u001b[38;5;241m*\u001b[39m(\u001b[38;5;241m-\u001b[39m\u001b[38;5;241m16\u001b[39m\u001b[38;5;241m*\u001b[39mdap\u001b[38;5;241m*\u001b[39m\u001b[38;5;241m*\u001b[39m\u001b[38;5;241m3\u001b[39m\u001b[38;5;241m*\u001b[39mLarm\u001b[38;5;241m-\u001b[39m\u001b[38;5;241m24\u001b[39m\u001b[38;5;241m*\u001b[39mdap\u001b[38;5;241m*\u001b[39m\u001b[38;5;241m*\u001b[39m\u001b[38;5;241m2\u001b[39m\u001b[38;5;241m*\u001b[39mdpdp\u001b[38;5;241m*\u001b[39mLarm\u001b[38;5;241m-\u001b[39m\u001b[38;5;241m8\u001b[39m\u001b[38;5;241m*\u001b[39mdap\u001b[38;5;241m*\u001b[39mdpdp\u001b[38;5;241m*\u001b[39m\u001b[38;5;241m*\u001b[39m\u001b[38;5;241m2\u001b[39m\u001b[38;5;241m*\u001b[39mLarm\u001b[38;5;241m-\u001b[39m\u001b[38;5;241m16\u001b[39m\u001b[38;5;241m*\u001b[39mdap\u001b[38;5;241m*\u001b[39mmath\u001b[38;5;241m.\u001b[39msqrt((dap\u001b[38;5;241m-\u001b[39mLarm)\u001b[38;5;241m*\u001b[39m\u001b[38;5;241m*\u001b[39m\u001b[38;5;241m2\u001b[39m)\u001b[38;5;241m*\u001b[39mmath\u001b[38;5;241m.\u001b[39msqrt((dap\u001b[38;5;241m+\u001b[39mdpdp\u001b[38;5;241m-\u001b[39mLarm)\u001b[38;5;241m*\u001b[39m\u001b[38;5;241m*\u001b[39m\u001b[38;5;241m2\u001b[39m)\u001b[38;5;241m*\u001b[39mLarm\u001b[38;5;241m-\u001b[39m\u001b[38;5;241m8\u001b[39m\u001b[38;5;241m*\u001b[39mdpdp\u001b[38;5;241m*\u001b[39mmath\u001b[38;5;241m.\u001b[39msqrt((dap\u001b[38;5;241m-\u001b[39mLarm)\u001b[38;5;241m*\u001b[39m\u001b[38;5;241m*\u001b[39m\u001b[38;5;241m2\u001b[39m)\u001b[38;5;241m*\u001b[39mmath\u001b[38;5;241m.\u001b[39msqrt((dap\u001b[38;5;241m+\u001b[39mdpdp\u001b[38;5;241m-\u001b[39mLarm)\u001b[38;5;241m*\u001b[39m\u001b[38;5;241m*\u001b[39m\u001b[38;5;241m2\u001b[39m)\u001b[38;5;241m*\u001b[39mLarm\u001b[38;5;241m+\u001b[39m\u001b[38;5;241m32\u001b[39m\u001b[38;5;241m*\u001b[39mdap\u001b[38;5;241m*\u001b[39m\u001b[38;5;241m*\u001b[39m\u001b[38;5;241m2\u001b[39m\u001b[38;5;241m*\u001b[39mLarm\u001b[38;5;241m*\u001b[39m\u001b[38;5;241m*\u001b[39m\u001b[38;5;241m2\u001b[39m\u001b[38;5;241m+\u001b[39m\u001b[38;5;241m32\u001b[39m\u001b[38;5;241m*\u001b[39mdap\u001b[38;5;241m*\u001b[39mdpdp\u001b[38;5;241m*\u001b[39mLarm\u001b[38;5;241m*\u001b[39m\u001b[38;5;241m*\u001b[39m\u001b[38;5;241m2\u001b[39m\u001b[38;5;241m+\u001b[39m\u001b[38;5;241m4\u001b[39m\u001b[38;5;241m*\u001b[39mdpdp\u001b[38;5;241m*\u001b[39m\u001b[38;5;241m*\u001b[39m\u001b[38;5;241m2\u001b[39m\u001b[38;5;241m*\u001b[39mLarm\u001b[38;5;241m*\u001b[39m\u001b[38;5;241m*\u001b[39m\u001b[38;5;241m2\u001b[39m\u001b[38;5;241m-\u001b[39m\u001b[38;5;241m16\u001b[39m\u001b[38;5;241m*\u001b[39mdap\u001b[38;5;241m*\u001b[39mLarm\u001b[38;5;241m*\u001b[39m\u001b[38;5;241m*\u001b[39m\u001b[38;5;241m3\u001b[39m\u001b[38;5;241m-\u001b[39m\u001b[38;5;241m8\u001b[39m\u001b[38;5;241m*\u001b[39mdpdp\u001b[38;5;241m*\u001b[39mLarm\u001b[38;5;241m*\u001b[39m\u001b[38;5;241m*\u001b[39m\u001b[38;5;241m3\u001b[39m\u001b[38;5;241m-\u001b[39m\u001b[38;5;241m8\u001b[39m\u001b[38;5;241m*\u001b[39mdap\u001b[38;5;241m*\u001b[39m\u001b[38;5;241m*\u001b[39m\u001b[38;5;241m2\u001b[39m\u001b[38;5;241m*\u001b[39mmath\u001b[38;5;241m.\u001b[39msqrt((dap\u001b[38;5;241m-\u001b[39mLarm)\u001b[38;5;241m*\u001b[39m\u001b[38;5;241m*\u001b[39m\u001b[38;5;241m2\u001b[39m)\u001b[38;5;241m*\u001b[39mmintakeup\u001b[38;5;241m-\u001b[39m\u001b[38;5;241m16\u001b[39m\u001b[38;5;241m*\u001b[39mdap\u001b[38;5;241m*\u001b[39mdpdp\u001b[38;5;241m*\u001b[39mmath\u001b[38;5;241m.\u001b[39msqrt((dap\u001b[38;5;241m-\u001b[39mLarm)\u001b[38;5;241m*\u001b[39m\u001b[38;5;241m*\u001b[39m\u001b[38;5;241m2\u001b[39m)\u001b[38;5;241m*\u001b[39mmintakeup\u001b[38;5;241m-\u001b[39m\u001b[38;5;241m8\u001b[39m\u001b[38;5;241m*\u001b[39mdpdp\u001b[38;5;241m*\u001b[39m\u001b[38;5;241m*\u001b[39m\u001b[38;5;241m2\u001b[39m\u001b[38;5;241m*\u001b[39mmath\u001b[38;5;241m.\u001b[39msqrt((dap\u001b[38;5;241m-\u001b[39mLarm)\u001b[38;5;241m*\u001b[39m\u001b[38;5;241m*\u001b[39m\u001b[38;5;241m2\u001b[39m)\u001b[38;5;241m*\u001b[39mmintakeup\u001b[38;5;241m-\u001b[39m\u001b[38;5;241m8\u001b[39m\u001b[38;5;241m*\u001b[39mdap\u001b[38;5;241m*\u001b[39m\u001b[38;5;241m*\u001b[39m\u001b[38;5;241m2\u001b[39m\u001b[38;5;241m*\u001b[39mmath\u001b[38;5;241m.\u001b[39msqrt((dap\u001b[38;5;241m+\u001b[39mdpdp\u001b[38;5;241m-\u001b[39mLarm)\u001b[38;5;241m*\u001b[39m\u001b[38;5;241m*\u001b[39m\u001b[38;5;241m2\u001b[39m)\u001b[38;5;241m*\u001b[39mmintakeup\u001b[38;5;241m+\u001b[39m\u001b[38;5;241m32\u001b[39m\u001b[38;5;241m*\u001b[39mdap\u001b[38;5;241m*\u001b[39mmath\u001b[38;5;241m.\u001b[39msqrt((dap\u001b[38;5;241m-\u001b[39mLarm)\u001b[38;5;241m*\u001b[39m\u001b[38;5;241m*\u001b[39m\u001b[38;5;241m2\u001b[39m)\u001b[38;5;241m*\u001b[39mLarm\u001b[38;5;241m*\u001b[39mmintakeup\u001b[38;5;241m+\u001b[39m\u001b[38;5;241m24\u001b[39m\u001b[38;5;241m*\u001b[39mdpdp\u001b[38;5;241m*\u001b[39mmath\u001b[38;5;241m.\u001b[39msqrt((dap\u001b[38;5;241m-\u001b[39mLarm)\u001b[38;5;241m*\u001b[39m\u001b[38;5;241m*\u001b[39m\u001b[38;5;241m2\u001b[39m)\u001b[38;5;241m*\u001b[39mLarm\u001b[38;5;241m*\u001b[39mmintakeup\u001b[38;5;241m+\u001b[39m\u001b[38;5;241m32\u001b[39m\u001b[38;5;241m*\u001b[39mdap\u001b[38;5;241m*\u001b[39mmath\u001b[38;5;241m.\u001b[39msqrt((dap\u001b[38;5;241m+\u001b[39mdpdp\u001b[38;5;241m-\u001b[39mLarm)\u001b[38;5;241m*\u001b[39m\u001b[38;5;241m*\u001b[39m\u001b[38;5;241m2\u001b[39m)\u001b[38;5;241m*\u001b[39mLarm\u001b[38;5;241m*\u001b[39mmintakeup\u001b[38;5;241m+\u001b[39m\u001b[38;5;241m8\u001b[39m\u001b[38;5;241m*\u001b[39mdpdp\u001b[38;5;241m*\u001b[39mmath\u001b[38;5;241m.\u001b[39msqrt((dap\u001b[38;5;241m+\u001b[39mdpdp\u001b[38;5;241m-\u001b[39mLarm)\u001b[38;5;241m*\u001b[39m\u001b[38;5;241m*\u001b[39m\u001b[38;5;241m2\u001b[39m)\u001b[38;5;241m*\u001b[39mLarm\u001b[38;5;241m*\u001b[39mmintakeup\u001b[38;5;241m-\u001b[39m\u001b[38;5;241m8\u001b[39m\u001b[38;5;241m*\u001b[39mmath\u001b[38;5;241m.\u001b[39msqrt((dap\u001b[38;5;241m-\u001b[39mLarm)\u001b[38;5;241m*\u001b[39m\u001b[38;5;241m*\u001b[39m\u001b[38;5;241m2\u001b[39m)\u001b[38;5;241m*\u001b[39mLarm\u001b[38;5;241m*\u001b[39m\u001b[38;5;241m*\u001b[39m\u001b[38;5;241m2\u001b[39m\u001b[38;5;241m*\u001b[39mmintakeup\u001b[38;5;241m-\u001b[39m\u001b[38;5;241m8\u001b[39m\u001b[38;5;241m*\u001b[39mmath\u001b[38;5;241m.\u001b[39msqrt((dap\u001b[38;5;241m+\u001b[39mdpdp\u001b[38;5;241m-\u001b[39mLarm)\u001b[38;5;241m*\u001b[39m\u001b[38;5;241m*\u001b[39m\u001b[38;5;241m2\u001b[39m)\u001b[38;5;241m*\u001b[39mLarm\u001b[38;5;241m*\u001b[39m\u001b[38;5;241m*\u001b[39m\u001b[38;5;241m2\u001b[39m\u001b[38;5;241m*\u001b[39mmintakeup\u001b[38;5;241m+\u001b[39m\u001b[38;5;241m8\u001b[39m\u001b[38;5;241m*\u001b[39mdap\u001b[38;5;241m*\u001b[39m\u001b[38;5;241m*\u001b[39m\u001b[38;5;241m2\u001b[39m\u001b[38;5;241m*\u001b[39mmintakeup\u001b[38;5;241m*\u001b[39m\u001b[38;5;241m*\u001b[39m\u001b[38;5;241m2\u001b[39m\u001b[38;5;241m+\u001b[39m\u001b[38;5;241m8\u001b[39m\u001b[38;5;241m*\u001b[39mdap\u001b[38;5;241m*\u001b[39mdpdp\u001b[38;5;241m*\u001b[39mmintakeup\u001b[38;5;241m*\u001b[39m\u001b[38;5;241m*\u001b[39m\u001b[38;5;241m2\u001b[39m\u001b[38;5;241m+\u001b[39m\u001b[38;5;241m4\u001b[39m\u001b[38;5;241m*\u001b[39mdpdp\u001b[38;5;241m*\u001b[39m\u001b[38;5;241m*\u001b[39m\u001b[38;5;241m2\u001b[39m\u001b[38;5;241m*\u001b[39mmintakeup\u001b[38;5;241m*\u001b[39m\u001b[38;5;241m*\u001b[39m\u001b[38;5;241m2\u001b[39m\u001b[38;5;241m+\u001b[39m\u001b[38;5;241m12\u001b[39m\u001b[38;5;241m*\u001b[39mmath\u001b[38;5;241m.\u001b[39msqrt((dap\u001b[38;5;241m-\u001b[39mLarm)\u001b[38;5;241m*\u001b[39m\u001b[38;5;241m*\u001b[39m\u001b[38;5;241m2\u001b[39m)\u001b[38;5;241m*\u001b[39mmath\u001b[38;5;241m.\u001b[39msqrt((dap\u001b[38;5;241m+\u001b[39mdpdp\u001b[38;5;241m-\u001b[39mLarm)\u001b[38;5;241m*\u001b[39m\u001b[38;5;241m*\u001b[39m\u001b[38;5;241m2\u001b[39m)\u001b[38;5;241m*\u001b[39mmintakeup\u001b[38;5;241m*\u001b[39m\u001b[38;5;241m*\u001b[39m\u001b[38;5;241m2\u001b[39m\u001b[38;5;241m-\u001b[39m\u001b[38;5;241m24\u001b[39m\u001b[38;5;241m*\u001b[39mdap\u001b[38;5;241m*\u001b[39mLarm\u001b[38;5;241m*\u001b[39mmintakeup\u001b[38;5;241m*\u001b[39m\u001b[38;5;241m*\u001b[39m\u001b[38;5;241m2\u001b[39m\u001b[38;5;241m-\u001b[39m\u001b[38;5;241m12\u001b[39m\u001b[38;5;241m*\u001b[39mdpdp\u001b[38;5;241m*\u001b[39mLarm\u001b[38;5;241m*\u001b[39mmintakeup\u001b[38;5;241m*\u001b[39m\u001b[38;5;241m*\u001b[39m\u001b[38;5;241m2\u001b[39m\u001b[38;5;241m+\u001b[39m\u001b[38;5;241m8\u001b[39m\u001b[38;5;241m*\u001b[39mLarm\u001b[38;5;241m*\u001b[39m\u001b[38;5;241m*\u001b[39m\u001b[38;5;241m2\u001b[39m\u001b[38;5;241m*\u001b[39mmintakeup\u001b[38;5;241m*\u001b[39m\u001b[38;5;241m*\u001b[39m\u001b[38;5;241m2\u001b[39m\u001b[38;5;241m-\u001b[39m\u001b[38;5;241m4\u001b[39m\u001b[38;5;241m*\u001b[39mmath\u001b[38;5;241m.\u001b[39msqrt((dap\u001b[38;5;241m-\u001b[39mLarm)\u001b[38;5;241m*\u001b[39m\u001b[38;5;241m*\u001b[39m\u001b[38;5;241m2\u001b[39m)\u001b[38;5;241m*\u001b[39mmintakeup\u001b[38;5;241m*\u001b[39m\u001b[38;5;241m*\u001b[39m\u001b[38;5;241m3\u001b[39m\u001b[38;5;241m-\u001b[39m\u001b[38;5;241m4\u001b[39m\u001b[38;5;241m*\u001b[39mmath\u001b[38;5;241m.\u001b[39msqrt((dap\u001b[38;5;241m+\u001b[39mdpdp\u001b[38;5;241m-\u001b[39mLarm)\u001b[38;5;241m*\u001b[39m\u001b[38;5;241m*\u001b[39m\u001b[38;5;241m2\u001b[39m)\u001b[38;5;241m*\u001b[39mmintakeup\u001b[38;5;241m*\u001b[39m\u001b[38;5;241m*\u001b[39m\u001b[38;5;241m3\u001b[39m\u001b[38;5;241m+\u001b[39mmintakeup\u001b[38;5;241m*\u001b[39m\u001b[38;5;241m*\u001b[39m\u001b[38;5;241m4\u001b[39m)))\n",
      "\u001b[1;31mNameError\u001b[0m: name 'dpdp' is not defined"
     ]
    }
   ],
   "source": [
    "(1/(8*dpdp**2*Larm**2))(-Larm*(16*dap**3+24*dap**2*dpdp+8*dap*dpdp**2+16*dap*math.sqrt((dap-Larm)**2)*math.sqrt((dap+dpdp-Larm)**2)+8*dpdp*math.sqrt((dap-Larm)**2)*math.sqrt((dap+dpdp-Larm)**2)-32*dap**2*Larm-32*dap*dpdp*Larm-8*dpdp**2*Larm+16*dap*Larm**2+8*dpdp*Larm**2-16*dap*math.sqrt((dap-Larm)**2)*mintakeup-8*dpdp*math.sqrt((dap-Larm)**2)*mintakeup-16*dap*math.sqrt((dap+dpdp-Larm)**2)*mintakeup-8*dpdp*math.sqrt((dap+dpdp-Larm)**2)*mintakeup+8*dap*mintakeup**2+4*dpdp*mintakeup**2)-(math.sqrt)(Larm**2*(16*dap**3+24*dap**2*dpdp+8*dap*dpdp**2+16*dap*math.sqrt((dap-Larm)**2)*math.sqrt((dap+dpdp-Larm)**2)+8*dpdp*math.sqrt((dap-Larm)**2)*math.sqrt((dap+dpdp-Larm)**2)-32*dap**2*Larm-32*dap*dpdp*Larm-8*dpdp**2*Larm+16*dap*Larm**2+8*dpdp*Larm**2-16*dap*math.sqrt((dap-Larm)**2)*mintakeup-8*dpdp*math.sqrt((dap-Larm)**2)*mintakeup-16*dap*math.sqrt((dap+dpdp-Larm)**2)*mintakeup-8*dpdp*math.sqrt((dap+dpdp-Larm)**2)*mintakeup+8*dap*mintakeup**2+4*dpdp*mintakeup**2)**2-16*dpdp**2*Larm**2*(-16*dap**3*Larm-24*dap**2*dpdp*Larm-8*dap*dpdp**2*Larm-16*dap*math.sqrt((dap-Larm)**2)*math.sqrt((dap+dpdp-Larm)**2)*Larm-8*dpdp*math.sqrt((dap-Larm)**2)*math.sqrt((dap+dpdp-Larm)**2)*Larm+32*dap**2*Larm**2+32*dap*dpdp*Larm**2+4*dpdp**2*Larm**2-16*dap*Larm**3-8*dpdp*Larm**3-8*dap**2*math.sqrt((dap-Larm)**2)*mintakeup-16*dap*dpdp*math.sqrt((dap-Larm)**2)*mintakeup-8*dpdp**2*math.sqrt((dap-Larm)**2)*mintakeup-8*dap**2*math.sqrt((dap+dpdp-Larm)**2)*mintakeup+32*dap*math.sqrt((dap-Larm)**2)*Larm*mintakeup+24*dpdp*math.sqrt((dap-Larm)**2)*Larm*mintakeup+32*dap*math.sqrt((dap+dpdp-Larm)**2)*Larm*mintakeup+8*dpdp*math.sqrt((dap+dpdp-Larm)**2)*Larm*mintakeup-8*math.sqrt((dap-Larm)**2)*Larm**2*mintakeup-8*math.sqrt((dap+dpdp-Larm)**2)*Larm**2*mintakeup+8*dap**2*mintakeup**2+8*dap*dpdp*mintakeup**2+4*dpdp**2*mintakeup**2+12*math.sqrt((dap-Larm)**2)*math.sqrt((dap+dpdp-Larm)**2)*mintakeup**2-24*dap*Larm*mintakeup**2-12*dpdp*Larm*mintakeup**2+8*Larm**2*mintakeup**2-4*math.sqrt((dap-Larm)**2)*mintakeup**3-4*math.sqrt((dap+dpdp-Larm)**2)*mintakeup**3+mintakeup**4)))"
   ]
  },
  {
   "cell_type": "code",
   "execution_count": 25,
   "id": "014ba643-550a-4aba-8d0a-372810b3a979",
   "metadata": {},
   "outputs": [
    {
     "ename": "NameError",
     "evalue": "name 'dpdp' is not defined",
     "output_type": "error",
     "traceback": [
      "\u001b[1;31m---------------------------------------------------------------------------\u001b[0m",
      "\u001b[1;31mNameError\u001b[0m                                 Traceback (most recent call last)",
      "Input \u001b[1;32mIn [25]\u001b[0m, in \u001b[0;36m<cell line: 1>\u001b[1;34m()\u001b[0m\n\u001b[1;32m----> 1\u001b[0m (\u001b[38;5;241m-\u001b[39m\u001b[38;5;241m2\u001b[39m\u001b[38;5;241m*\u001b[39m\u001b[43mdpdp\u001b[49m\u001b[38;5;241m+\u001b[39mmath\u001b[38;5;241m.\u001b[39msqrt((dap\u001b[38;5;241m+\u001b[39mdpdp\u001b[38;5;241m-\u001b[39mLarm\u001b[38;5;241m*\u001b[39mmath\u001b[38;5;241m.\u001b[39mcos(larm))\u001b[38;5;241m*\u001b[39m\u001b[38;5;241m*\u001b[39m\u001b[38;5;241m2\u001b[39m\u001b[38;5;241m+\u001b[39mLarm\u001b[38;5;241m*\u001b[39m\u001b[38;5;241m*\u001b[39m\u001b[38;5;241m2\u001b[39m\u001b[38;5;241m*\u001b[39mmath\u001b[38;5;241m.\u001b[39msin(larm)\u001b[38;5;241m*\u001b[39m\u001b[38;5;241m*\u001b[39m\u001b[38;5;241m2\u001b[39m)\u001b[38;5;241m+\u001b[39mmath\u001b[38;5;241m.\u001b[39msqrt((\u001b[38;5;241m-\u001b[39mdap\u001b[38;5;241m+\u001b[39mLarm\u001b[38;5;241m*\u001b[39mmath\u001b[38;5;241m.\u001b[39mcos(larm))\u001b[38;5;241m*\u001b[39m\u001b[38;5;241m*\u001b[39m\u001b[38;5;241m2\u001b[39m\u001b[38;5;241m+\u001b[39mLarm\u001b[38;5;241m*\u001b[39m\u001b[38;5;241m*\u001b[39m\u001b[38;5;241m2\u001b[39m\u001b[38;5;241m*\u001b[39mmath\u001b[38;5;241m.\u001b[39msin(larm)\u001b[38;5;241m*\u001b[39m\u001b[38;5;241m*\u001b[39m\u001b[38;5;241m2\u001b[39m)\u001b[38;5;241m+\u001b[39mmath\u001b[38;5;241m.\u001b[39msqrt((dap\u001b[38;5;241m+\u001b[39mdpdp\u001b[38;5;241m-\u001b[39mLarm\u001b[38;5;241m*\u001b[39mmath\u001b[38;5;241m.\u001b[39mcos(rarm))\u001b[38;5;241m*\u001b[39m\u001b[38;5;241m*\u001b[39m\u001b[38;5;241m2\u001b[39m\u001b[38;5;241m+\u001b[39mLarm\u001b[38;5;241m*\u001b[39m\u001b[38;5;241m*\u001b[39m\u001b[38;5;241m2\u001b[39m\u001b[38;5;241m*\u001b[39mmath\u001b[38;5;241m.\u001b[39msin(rarm)\u001b[38;5;241m*\u001b[39m\u001b[38;5;241m*\u001b[39m\u001b[38;5;241m2\u001b[39m)\u001b[38;5;241m+\u001b[39mmath\u001b[38;5;241m.\u001b[39msqrt((\u001b[38;5;241m-\u001b[39mdap\u001b[38;5;241m+\u001b[39mLarm\u001b[38;5;241m*\u001b[39mmath\u001b[38;5;241m.\u001b[39mcos(rarm))\u001b[38;5;241m*\u001b[39m\u001b[38;5;241m*\u001b[39m\u001b[38;5;241m2\u001b[39m\u001b[38;5;241m+\u001b[39mLarm\u001b[38;5;241m*\u001b[39m\u001b[38;5;241m*\u001b[39m\u001b[38;5;241m2\u001b[39m\u001b[38;5;241m*\u001b[39mmath\u001b[38;5;241m.\u001b[39msin(rarm)\u001b[38;5;241m*\u001b[39m\u001b[38;5;241m*\u001b[39m\u001b[38;5;241m2\u001b[39m))\n",
      "\u001b[1;31mNameError\u001b[0m: name 'dpdp' is not defined"
     ]
    }
   ],
   "source": [
    "(-2*dpdp+math.sqrt((dap+dpdp-Larm*math.cos(larm))**2+Larm**2*math.sin(larm)**2)+math.sqrt((-dap+Larm*math.cos(larm))**2+Larm**2*math.sin(larm)**2)+math.sqrt((dap+dpdp-Larm*math.cos(rarm))**2+Larm**2*math.sin(rarm)**2)+math.sqrt((-dap+Larm*math.cos(rarm))**2+Larm**2*math.sin(rarm)**2))"
   ]
  },
  {
   "cell_type": "code",
   "execution_count": null,
   "id": "0386e6e8-1f92-4cbe-97f7-899a77b2e252",
   "metadata": {},
   "outputs": [],
   "source": []
  }
 ],
 "metadata": {
  "kernelspec": {
   "display_name": "Python 3 (ipykernel)",
   "language": "python",
   "name": "python3"
  },
  "language_info": {
   "codemirror_mode": {
    "name": "ipython",
    "version": 3
   },
   "file_extension": ".py",
   "mimetype": "text/x-python",
   "name": "python",
   "nbconvert_exporter": "python",
   "pygments_lexer": "ipython3",
   "version": "3.9.12"
  }
 },
 "nbformat": 4,
 "nbformat_minor": 5
}
