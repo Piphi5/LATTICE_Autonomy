{
 "cells": [
  {
   "cell_type": "code",
   "execution_count": 57,
   "id": "5dfe584b-edd4-4a93-9297-6fde93c53cd3",
   "metadata": {},
   "outputs": [],
   "source": [
    "input_text = \"-((6.468 (-30. x+1. dist x+1. takeup x))/y)\""
   ]
  },
  {
   "cell_type": "code",
   "execution_count": 58,
   "id": "a9604b8d-90f8-469a-98b5-c4249845e6e7",
   "metadata": {},
   "outputs": [
    {
     "data": {
      "text/plain": [
       "'-((6.468*(-30*x+1*dist*x+1*takeup*x))/y)'"
      ]
     },
     "execution_count": 58,
     "metadata": {},
     "output_type": "execute_result"
    }
   ],
   "source": [
    "input_text.replace(\" -\", \"-\").replace(\" +\", \"+\").replace(\". \", \"*\").replace(\" \", \"*\").replace(\"^\", \"**\").replace(\"Sqrt\", \"math.sqrt\").replace(\"Cos\", \"math.cos\").replace(\"Sin\", \"math.sin\").replace(\"[\", \"(\").replace(\"]\", \")\")"
   ]
  },
  {
   "cell_type": "code",
   "execution_count": 49,
   "id": "38d09ea9-8303-465f-9057-5bf01a6dd3c0",
   "metadata": {},
   "outputs": [
    {
     "ename": "NameError",
     "evalue": "name 'dx6' is not defined",
     "output_type": "error",
     "traceback": [
      "\u001b[1;31m---------------------------------------------------------------------------\u001b[0m",
      "\u001b[1;31mNameError\u001b[0m                                 Traceback (most recent call last)",
      "Input \u001b[1;32mIn [49]\u001b[0m, in \u001b[0;36m<cell line: 1>\u001b[1;34m()\u001b[0m\n\u001b[1;32m----> 1\u001b[0m (\u001b[38;5;241m25\u001b[39m\u001b[38;5;241m*\u001b[39m\u001b[43mdx6\u001b[49m\u001b[38;5;241m*\u001b[39mx4\u001b[38;5;241m*\u001b[39m(\u001b[38;5;241m-\u001b[39m\u001b[38;5;241m4042.5\u001b[39m\u001b[38;5;241m+\u001b[39m\u001b[38;5;241m161.7\u001b[39m\u001b[38;5;241m*\u001b[39mx5))\u001b[38;5;241m/\u001b[39m(\u001b[38;5;241m0.\u001b[39m\u001b[38;5;241m+\u001b[39m\u001b[38;5;241m25\u001b[39m\u001b[38;5;241m*\u001b[39mx6)\u001b[38;5;241m*\u001b[39m\u001b[38;5;241m*\u001b[39m\u001b[38;5;241m2\u001b[39m\u001b[38;5;241m-\u001b[39m(\u001b[38;5;241m161.7\u001b[39m\u001b[38;5;241m*\u001b[39mdx5\u001b[38;5;241m*\u001b[39mx4)\u001b[38;5;241m/\u001b[39m(\u001b[38;5;241m0.\u001b[39m\u001b[38;5;241m+\u001b[39m\u001b[38;5;241m25\u001b[39m\u001b[38;5;241m*\u001b[39mx6)\u001b[38;5;241m-\u001b[39m(\u001b[38;5;241m1\u001b[39m\u001b[38;5;241m*\u001b[39mu3\u001b[38;5;241m*\u001b[39m(\u001b[38;5;241m-\u001b[39m\u001b[38;5;241m4042.5\u001b[39m\u001b[38;5;241m+\u001b[39m\u001b[38;5;241m161.7\u001b[39m\u001b[38;5;241m*\u001b[39mx5))\u001b[38;5;241m/\u001b[39m(\u001b[38;5;241m0.\u001b[39m\u001b[38;5;241m+\u001b[39m\u001b[38;5;241m25\u001b[39m\u001b[38;5;241m*\u001b[39mx6)\n",
      "\u001b[1;31mNameError\u001b[0m: name 'dx6' is not defined"
     ]
    }
   ],
   "source": [
    "(25*dx6*x4*(-4042.5+161.7*x5))/(0.+25*x6)**2-(161.7*dx5*x4)/(0.+25*x6)-(1*u3*(-4042.5+161.7*x5))/(0.+25*x6)"
   ]
  },
  {
   "cell_type": "code",
   "execution_count": 50,
   "id": "51517dc2-0442-48ac-a5cc-e79bc68f4e43",
   "metadata": {},
   "outputs": [
    {
     "data": {
      "text/plain": [
       "0.0"
      ]
     },
     "execution_count": 50,
     "metadata": {},
     "output_type": "execute_result"
    }
   ],
   "source": [
    "0."
   ]
  },
  {
   "cell_type": "code",
   "execution_count": null,
   "id": "1e479376-ad94-495e-92e2-85d0d32c8c0d",
   "metadata": {},
   "outputs": [],
   "source": []
  }
 ],
 "metadata": {
  "kernelspec": {
   "display_name": "Python 3 (ipykernel)",
   "language": "python",
   "name": "python3"
  },
  "language_info": {
   "codemirror_mode": {
    "name": "ipython",
    "version": 3
   },
   "file_extension": ".py",
   "mimetype": "text/x-python",
   "name": "python",
   "nbconvert_exporter": "python",
   "pygments_lexer": "ipython3",
   "version": "3.9.12"
  }
 },
 "nbformat": 4,
 "nbformat_minor": 5
}
