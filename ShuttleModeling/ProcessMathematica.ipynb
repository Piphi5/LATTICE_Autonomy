{
 "cells": [
  {
   "cell_type": "code",
   "execution_count": 50,
   "id": "5dfe584b-edd4-4a93-9297-6fde93c53cd3",
   "metadata": {},
   "outputs": [],
   "source": [
    "input_text = \"(dx6 (-g lencable mshuttle x5+g mshuttle x3 x5+g mshuttle x4 x5))/(cablespan x6^2)-(-dx5 g lencable mshuttle+dx5 g mshuttle x3+dx5 g mshuttle x4+dx3 g mshuttle x5+g mshuttle u3 x5)/(cablespan x6)\""
   ]
  },
  {
   "cell_type": "code",
   "execution_count": 51,
   "id": "a9604b8d-90f8-469a-98b5-c4249845e6e7",
   "metadata": {},
   "outputs": [
    {
     "data": {
      "text/plain": [
       "'(dx6*(-g*lencable*mshuttle*x5+g*mshuttle*x3*x5+g*mshuttle*x4*x5))/(cablespan*x6**2)-(-dx5*g*lencable*mshuttle+dx5*g*mshuttle*x3+dx5*g*mshuttle*x4+dx3*g*mshuttle*x5+g*mshuttle*u3*x5)/(cablespan*x6)'"
      ]
     },
     "execution_count": 51,
     "metadata": {},
     "output_type": "execute_result"
    }
   ],
   "source": [
    "input_text.replace(\" -\", \"-\").replace(\" +\", \"+\").replace(\". \", \"*\").replace(\" \", \"*\").replace(\"^\", \"**\").replace(\"Sqrt\", \"math.sqrt\").replace(\"Cos\", \"math.cos\").replace(\"Sin\", \"math.sin\").replace(\"[\", \"(\").replace(\"]\", \")\")"
   ]
  },
  {
   "cell_type": "code",
   "execution_count": 34,
   "id": "38d09ea9-8303-465f-9057-5bf01a6dd3c0",
   "metadata": {},
   "outputs": [],
   "source": [
    "import math\n",
    "def thing(poscable, cablespan, lencable, takeup):\n",
    "    return math.sqrt(poscable**2-(cablespan**2+2*poscable*(lencable-takeup)-(lencable-takeup)**2)**2/(4*cablespan**2))"
   ]
  },
  {
   "cell_type": "code",
   "execution_count": 39,
   "id": "51517dc2-0442-48ac-a5cc-e79bc68f4e43",
   "metadata": {},
   "outputs": [
    {
     "data": {
      "text/plain": [
       "0.0"
      ]
     },
     "execution_count": 39,
     "metadata": {},
     "output_type": "execute_result"
    }
   ],
   "source": [
    "thing(1, 25, 26, 1)"
   ]
  },
  {
   "cell_type": "code",
   "execution_count": null,
   "id": "a3191afb-2fde-4cf6-be67-3e1932cbdbf8",
   "metadata": {},
   "outputs": [],
   "source": []
  }
 ],
 "metadata": {
  "kernelspec": {
   "display_name": "Python 3 (ipykernel)",
   "language": "python",
   "name": "python3"
  },
  "language_info": {
   "codemirror_mode": {
    "name": "ipython",
    "version": 3
   },
   "file_extension": ".py",
   "mimetype": "text/x-python",
   "name": "python",
   "nbconvert_exporter": "python",
   "pygments_lexer": "ipython3",
   "version": "3.9.12"
  }
 },
 "nbformat": 4,
 "nbformat_minor": 5
}
