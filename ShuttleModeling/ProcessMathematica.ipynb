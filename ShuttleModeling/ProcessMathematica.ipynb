{
 "cells": [
  {
   "cell_type": "code",
   "execution_count": 18,
   "id": "5dfe584b-edd4-4a93-9297-6fde93c53cd3",
   "metadata": {},
   "outputs": [
    {
     "name": "stdin",
     "output_type": "stream",
     "text": [
      "Enter eq:  (15 \\[Pi]^(1/4) x-3^(3/4) 5^(1/4) (x (-2+375 \\[Pi] x^3))^(1/4))/(15 \\[Pi]^(1/4))\n"
     ]
    }
   ],
   "source": [
    "input_text = input(\"Enter eq: \")"
   ]
  },
  {
   "cell_type": "code",
   "execution_count": 19,
   "id": "fe8dae54-3984-4a29-ab22-10a7f276c6f8",
   "metadata": {},
   "outputs": [],
   "source": [
    "process = {\n",
    "    \")(\": \")*(\",\n",
    "\" -\": \"-\",\n",
    "    \" +\": \"+\",\n",
    "    \". \": \"*\",\n",
    "    \" \": \"*\",\n",
    "    \"^\": \"**\",\n",
    "    \"Sqrt\": \"math.sqrt\",\n",
    "    \"Cos\": \"math.cos\",\n",
    "    \"Sin\": \"math.sin\",\n",
    "    \"Csc\" : \"mp.csc\",\n",
    "    \"Cot\" : \"mp.cot\",\n",
    "    \"\\[Pi]\" : \"math.pi\",\n",
    "    \"[\": \"(\",\n",
    "    \"]\": \")\"\n",
    "}"
   ]
  },
  {
   "cell_type": "code",
   "execution_count": 20,
   "id": "a9604b8d-90f8-469a-98b5-c4249845e6e7",
   "metadata": {},
   "outputs": [
    {
     "data": {
      "text/plain": [
       "'(15*math.pi**(1/4)*x-3**(3/4)*5**(1/4)*(x*(-2+375*math.pi*x**3))**(1/4))/(15*math.pi**(1/4))'"
      ]
     },
     "execution_count": 20,
     "metadata": {},
     "output_type": "execute_result"
    }
   ],
   "source": [
    "out_text = input_text\n",
    "for mathematica, python in process.items():\n",
    "    out_text = out_text.replace(mathematica, python)\n",
    "out_text"
   ]
  }
 ],
 "metadata": {
  "kernelspec": {
   "display_name": "Python 3 (ipykernel)",
   "language": "python",
   "name": "python3"
  },
  "language_info": {
   "codemirror_mode": {
    "name": "ipython",
    "version": 3
   },
   "file_extension": ".py",
   "mimetype": "text/x-python",
   "name": "python",
   "nbconvert_exporter": "python",
   "pygments_lexer": "ipython3",
   "version": "3.9.12"
  }
 },
 "nbformat": 4,
 "nbformat_minor": 5
}
